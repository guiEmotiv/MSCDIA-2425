{
  "cells": [
    {
      "cell_type": "markdown",
      "metadata": {
        "id": "hlS2gyLW2UnG"
      },
      "source": [
        "# Tarea: Análisis de Datos de una Escuela\n",
        "\n",
        "### Descripción del Dataset\n",
        "\n",
        "Tienes tres datasets en formato CSV:\n",
        "- `estudiantes.csv`: Información sobre los estudiantes.\n",
        "  - Columnas: `student_id`, `student_name`, `age`\n",
        "- `cursos.csv`: Información sobre los cursos.\n",
        "  - Columnas: `course_id`, `course_name`, `credits`, `professor`\n",
        "- `notas.csv`: Información sobre las notas de los estudiantes en los cursos.\n",
        "  - Columnas: `note_id`, `student_id`, `course_id`, `grade`\n"
      ]
    },
    {
      "cell_type": "markdown",
      "metadata": {
        "id": "wvXxlfnw2UnI"
      },
      "source": [
        "Puntaje:\n"
      ]
    },
    {
      "cell_type": "markdown",
      "metadata": {
        "id": "IuF9_pBo2UnI"
      },
      "source": [
        "### 1. Cargar y mostrar los datos (1 pts)\n",
        "\n",
        "Carga los archivos CSV en dataframes de pandas y muestra las primeras filas de cada uno."
      ]
    },
    {
      "cell_type": "code",
      "execution_count": null,
      "metadata": {
        "id": "w1WP6lzh2UnJ",
        "colab": {
          "base_uri": "https://localhost:8080/"
        },
        "outputId": "04ee2782-11b8-487d-d20e-e959e9dc0704"
      },
      "outputs": [
        {
          "output_type": "stream",
          "name": "stdout",
          "text": [
            "Estudiantes:\n",
            "   student_id  student_name  age     gender\n",
            "0           1           NaN   -5  Masculino\n",
            "1           2  Estudiante 2   10   Femenino\n",
            "2           3  Estudiante 3   18   Femenino\n",
            "3           4  Estudiante 4   21   Femenino\n",
            "4           5  Estudiante 5   21   Femenino\n",
            "\n",
            "Cursos:\n",
            "   course_id course_name  credits   professor\n",
            "0          1     Curso 1        1  Profesor 1\n",
            "1          2         NaN        3  Profesor 2\n",
            "2          3     Curso 3        1  Profesor 3\n",
            "3          4     Curso 4        1  Profesor 4\n",
            "4          5     Curso 5        4  Profesor 5\n",
            "\n",
            "Notas:\n",
            "   grade_id  student_id  course_id  grade\n",
            "0         1         168         16   8.00\n",
            "1         2         137         19   3.11\n",
            "2         3          14         30   4.98\n",
            "3         4         136        101   7.02\n",
            "4         5          23         61   1.38\n"
          ]
        }
      ],
      "source": [
        "import pandas as pd\n",
        "\n",
        "# 1.Cargar los datos\n",
        "estudiantes = pd.read_csv('estudiantes.csv')\n",
        "cursos = pd.read_csv('cursos.csv')\n",
        "notas = pd.read_csv('notas.csv')\n",
        "\n",
        "# Mostrar las primeras filas de cada dataframe\n",
        "print(\"Estudiantes:\")\n",
        "print(estudiantes.head())\n",
        "print(\"\\nCursos:\")\n",
        "print(cursos.head())\n",
        "print(\"\\nNotas:\")\n",
        "print(notas.head())\n"
      ]
    },
    {
      "cell_type": "markdown",
      "metadata": {
        "id": "mDIGbCCM2UnJ"
      },
      "source": [
        "### 2. Limpieza de Datos (3 pts)\n",
        "\n",
        "#### a. Estudiantes\n",
        "1. Eliminar registros con nombres vacíos.\n",
        "2. Eliminar registros con edades fuera del rango (18-25)."
      ]
    },
    {
      "cell_type": "code",
      "execution_count": null,
      "metadata": {
        "id": "O3Q1YyoU2UnJ",
        "colab": {
          "base_uri": "https://localhost:8080/"
        },
        "outputId": "267ff7db-b7dc-4d6d-9c17-544efd7a86fa"
      },
      "outputs": [
        {
          "output_type": "stream",
          "name": "stdout",
          "text": [
            "\n",
            "Estudiantes actualizados:\n",
            "   student_id  student_name  age     gender\n",
            "2           3  Estudiante 3   18   Femenino\n",
            "3           4  Estudiante 4   21   Femenino\n",
            "4           5  Estudiante 5   21   Femenino\n",
            "5           6  Estudiante 6   21  Masculino\n",
            "6           7  Estudiante 7   19  Masculino\n"
          ]
        }
      ],
      "source": [
        "# a. Estudiantes\n",
        "# 1. Eliminar registros con nombres vacíos.\n",
        "estudiantes = estudiantes[estudiantes['student_name'].notna()]\n",
        "\n",
        "# 2. Eliminar registros con edades fuera del rango (18-25).\n",
        "estudiantes = estudiantes[(estudiantes['age'] >= 18) & (estudiantes['age'] <= 25)]\n",
        "# Mostrar los dataframes limpios\n",
        "print(\"\\nEstudiantes actualizados:\")\n",
        "print(estudiantes.head())"
      ]
    },
    {
      "cell_type": "markdown",
      "metadata": {
        "id": "h2sDj8GJ2UnJ"
      },
      "source": [
        "#### b. Cursos\n",
        "1. Eliminar registros con nombres de cursos vacíos.\n",
        "2. Eliminar registros con créditos fuera del rango (1-5)."
      ]
    },
    {
      "cell_type": "code",
      "execution_count": null,
      "metadata": {
        "id": "X1T9lFVV2UnK",
        "colab": {
          "base_uri": "https://localhost:8080/"
        },
        "outputId": "e0a15f4c-04bd-4391-9f2e-1df6d10468fc"
      },
      "outputs": [
        {
          "output_type": "stream",
          "name": "stdout",
          "text": [
            "\n",
            "Cursos actualizados:\n",
            "   course_id course_name  credits   professor\n",
            "0          1     Curso 1        1  Profesor 1\n",
            "2          3     Curso 3        1  Profesor 3\n",
            "3          4     Curso 4        1  Profesor 4\n",
            "4          5     Curso 5        4  Profesor 5\n",
            "5          6     Curso 6        4  Profesor 6\n"
          ]
        }
      ],
      "source": [
        "# b. Cursos\n",
        "# 1. Eliminar registros con nombres de cursos vacíos.\n",
        "cursos = cursos[cursos['course_name'].notna()]\n",
        "\n",
        "# 2. Eliminar registros con créditos fuera del rango (1-5).\n",
        "cursos = cursos[(cursos['credits'] >= 1) & (cursos['credits'] <= 5)]\n",
        "print(\"\\nCursos actualizados:\")\n",
        "print(cursos.head())"
      ]
    },
    {
      "cell_type": "markdown",
      "metadata": {
        "id": "br2JXu0L2UnK"
      },
      "source": [
        "#### c. Notas\n",
        "1. Eliminar registros con notas fuera del rango (0-10).\n",
        "2. Eliminar registros con `student_id` y `course_id` que no existen en las tablas de estudiantes y cursos respectivamente."
      ]
    },
    {
      "cell_type": "code",
      "execution_count": null,
      "metadata": {
        "id": "sYlsDCPJ2UnK",
        "colab": {
          "base_uri": "https://localhost:8080/"
        },
        "outputId": "fa053363-6e4f-4b10-8655-290544d2d6e2"
      },
      "outputs": [
        {
          "output_type": "stream",
          "name": "stdout",
          "text": [
            "\n",
            "Notas actualizadas:\n",
            "   grade_id  student_id  course_id  grade\n",
            "0         1         168         16   8.00\n",
            "1         2         137         19   3.11\n",
            "4         5          23         61   1.38\n",
            "5         6          80         43   1.94\n",
            "6         7           9         83   4.81\n"
          ]
        }
      ],
      "source": [
        "# c. Notas\n",
        "# 1. Eliminar registros con notas fuera del rango (0-10).\n",
        "notas = notas[(notas['grade'] >= 0) & (notas['grade'] <= 10)]\n",
        "\n",
        "# 2. Eliminar registros con student_id y course_id que no existen en las tablas de estudiantes y cursos respectivamente.\n",
        "notas = notas[notas['student_id'].isin(estudiantes['student_id'])]\n",
        "notas = notas[notas['course_id'].isin(cursos['course_id'])]\n",
        "\n",
        "print(\"\\nNotas actualizadas:\")\n",
        "print(notas.head())"
      ]
    },
    {
      "cell_type": "markdown",
      "metadata": {
        "id": "NQSSUmLY2UnK"
      },
      "source": [
        "### 3. Estadísticas (3 pts)\n",
        "\n",
        "1. Calcular la media, mediana y desviación estándar de las edades de los estudiantes.\n",
        "2. Calcular la media, mediana y desviación estándar de los créditos de los cursos.\n",
        "3. Calcular la media, mediana y desviación estándar de las notas de los estudiantes."
      ]
    },
    {
      "cell_type": "code",
      "execution_count": null,
      "metadata": {
        "id": "zBFrjPO02UnK",
        "colab": {
          "base_uri": "https://localhost:8080/"
        },
        "outputId": "5e641855-8806-4d1c-c64b-8dc1b1ef5692"
      },
      "outputs": [
        {
          "output_type": "stream",
          "name": "stdout",
          "text": [
            "\n",
            "Estadísticas:\n",
            "              Edad  Créditos     Notas\n",
            "Media    20.768293   2.52439  4.854544\n",
            "Mediana  21.000000   3.00000  4.790000\n",
            "STD       1.930058   1.15711  2.866402\n"
          ]
        }
      ],
      "source": [
        "# 3. Estadísticas\n",
        "#1. Calcular la media, mediana y desviación estándar de las edades de los estudiantes.\n",
        "edad_media = estudiantes['age'].mean()\n",
        "edad_mediana = estudiantes['age'].median()\n",
        "edad_std = estudiantes['age'].std()\n",
        "\n",
        "#2. Calcular la media, mediana y desviación estándar de los créditos de los cursos.\n",
        "creditos_media = cursos['credits'].mean()\n",
        "creditos_mediana = cursos['credits'].median()\n",
        "creditos_std = cursos['credits'].std()\n",
        "\n",
        "#3. Calcular la media, mediana y desviación estándar de las notas de los estudiantes.\n",
        "notas_media = notas['grade'].mean()\n",
        "notas_mediana = notas['grade'].median()\n",
        "notas_std = notas['grade'].std()\n",
        "\n",
        "estadisticas = {\n",
        "    'Edad': {'Media': edad_media, 'Mediana': edad_mediana, 'STD': edad_std},\n",
        "    'Créditos': {'Media': creditos_media, 'Mediana': creditos_mediana, 'STD': creditos_std},\n",
        "    'Notas': {'Media': notas_media, 'Mediana': notas_mediana, 'STD': notas_std}\n",
        "}\n",
        "\n",
        "print(\"\\nEstadísticas:\")\n",
        "print(pd.DataFrame(estadisticas))\n"
      ]
    },
    {
      "cell_type": "markdown",
      "metadata": {
        "id": "ajRyGqmY2UnL"
      },
      "source": [
        "### 4. Uniones/ Joins (3 pts)\n",
        "\n",
        "1. Unir las notas con los estudiantes para obtener el nombre y la edad del estudiante en cada nota.\n",
        "2. Unir las notas con los cursos para obtener el nombre del curso y el profesor en cada nota."
      ]
    },
    {
      "cell_type": "code",
      "execution_count": null,
      "metadata": {
        "id": "i9EZFktl2UnL",
        "colab": {
          "base_uri": "https://localhost:8080/"
        },
        "outputId": "514356ac-a196-406f-fab6-7d983b1a2795"
      },
      "outputs": [
        {
          "output_type": "stream",
          "name": "stdout",
          "text": [
            "\n",
            "Notas con Estudiantes:\n",
            "   grade_id  student_id  course_id  grade    student_name  age    gender\n",
            "0         1         168         16   8.00  Estudiante 168   21  Femenino\n",
            "1       365         168         85   5.12  Estudiante 168   21  Femenino\n",
            "2       573         168         60   0.44  Estudiante 168   21  Femenino\n",
            "3         2         137         19   3.11  Estudiante 137   21  Femenino\n",
            "4       121         137         81   7.63  Estudiante 137   21  Femenino\n",
            "\n",
            "Notas con Cursos:\n",
            "   grade_id  student_id  course_id  grade course_name  credits    professor\n",
            "0         1         168         16   8.00    Curso 16        4  Profesor 16\n",
            "1        58          92         16   7.49    Curso 16        4  Profesor 16\n",
            "2       130         124         16   6.95    Curso 16        4  Profesor 16\n",
            "3       188         172         16   1.96    Curso 16        4  Profesor 16\n",
            "4       231         103         16   5.67    Curso 16        4  Profesor 16\n"
          ]
        }
      ],
      "source": [
        "# 4. Uniones/Joins\n",
        "#1. Unir notas con estudiantes\n",
        "notas_estudiantes = pd.merge(notas, estudiantes, on='student_id', how='inner')\n",
        "\n",
        "#2. Unir notas con cursos\n",
        "notas_cursos = pd.merge(notas, cursos, on='course_id', how='inner')\n",
        "\n",
        "# Mostrar las primeras filas de las uniones\n",
        "print(\"\\nNotas con Estudiantes:\")\n",
        "print(notas_estudiantes.head())\n",
        "print(\"\\nNotas con Cursos:\")\n",
        "print(notas_cursos.head())"
      ]
    },
    {
      "cell_type": "markdown",
      "metadata": {
        "id": "Rm5bXBZW2UnL"
      },
      "source": [
        "### 5. Filtros (5 pts)\n",
        "\n",
        "1. Filtrar las notas de estudiantes entre 20 y 22 años.\n",
        "2. Filtrar las notas en cursos con más de 3 créditos.\n",
        "3. Filtrar las notas obtenidas por un estudiante específico (ejemplo: `student_id` = 1) y en un curso específico (ejemplo: `course_id` = 1)."
      ]
    },
    {
      "cell_type": "code",
      "execution_count": null,
      "metadata": {
        "id": "ug8326qG2UnL",
        "colab": {
          "base_uri": "https://localhost:8080/"
        },
        "outputId": "e91c8b8e-d4dc-45eb-f65c-2575f30db997"
      },
      "outputs": [
        {
          "output_type": "stream",
          "name": "stdout",
          "text": [
            "\n",
            "Notas de estudiantes entre 20 y 22 años:\n",
            "   grade_id  student_id  course_id  grade    student_name  age    gender\n",
            "0         1         168         16   8.00  Estudiante 168   21  Femenino\n",
            "1       365         168         85   5.12  Estudiante 168   21  Femenino\n",
            "2       573         168         60   0.44  Estudiante 168   21  Femenino\n",
            "3         2         137         19   3.11  Estudiante 137   21  Femenino\n",
            "4       121         137         81   7.63  Estudiante 137   21  Femenino\n"
          ]
        }
      ],
      "source": [
        "# 5. Filtros\n",
        "# Filtro 1: Notas de estudiantes entre 20 y 22 años\n",
        "notas_20_22 = notas_estudiantes[(notas_estudiantes['age'] >= 20) & (notas_estudiantes['age'] <= 22)]\n",
        "\n",
        "# Mostrar resultados de los filtros\n",
        "print(\"\\nNotas de estudiantes entre 20 y 22 años:\")\n",
        "print(notas_20_22.head())\n"
      ]
    },
    {
      "cell_type": "code",
      "execution_count": null,
      "metadata": {
        "id": "znh024id2UnL",
        "colab": {
          "base_uri": "https://localhost:8080/"
        },
        "outputId": "e29fa401-9626-4a28-df9f-365f235311c1"
      },
      "outputs": [
        {
          "output_type": "stream",
          "name": "stdout",
          "text": [
            "\n",
            "Notas en cursos con más de 3 créditos:\n",
            "   grade_id  student_id  course_id  grade course_name  credits    professor\n",
            "0         1         168         16   8.00    Curso 16        4  Profesor 16\n",
            "1        58          92         16   7.49    Curso 16        4  Profesor 16\n",
            "2       130         124         16   6.95    Curso 16        4  Profesor 16\n",
            "3       188         172         16   1.96    Curso 16        4  Profesor 16\n",
            "4       231         103         16   5.67    Curso 16        4  Profesor 16\n"
          ]
        }
      ],
      "source": [
        "# Filtro 2: Notas en cursos con más de 3 créditos\n",
        "notas_cursos_3_creditos = notas_cursos[notas_cursos['credits'] > 3]\n",
        "print(\"\\nNotas en cursos con más de 3 créditos:\")\n",
        "print(notas_cursos_3_creditos.head())"
      ]
    },
    {
      "cell_type": "code",
      "execution_count": null,
      "metadata": {
        "id": "lfU_gg9D2UnL",
        "colab": {
          "base_uri": "https://localhost:8080/"
        },
        "outputId": "784ef6dc-90a2-4d16-de65-deefb779b082"
      },
      "outputs": [
        {
          "output_type": "stream",
          "name": "stdout",
          "text": [
            "\n",
            "Notas de un estudiante específico en un curso específico:\n",
            "Empty DataFrame\n",
            "Columns: [grade_id, student_id, course_id, grade, course_name, credits, professor]\n",
            "Index: []\n"
          ]
        }
      ],
      "source": [
        "# Filtro 3: Notas de un estudiante específico en un curso específico\n",
        "notas_especificas = notas_cursos[(notas_cursos['student_id'] == 1) & (notas_cursos['course_id'] == 1)]\n",
        "print(\"\\nNotas de un estudiante específico en un curso específico:\")\n",
        "print(notas_especificas.head())\n"
      ]
    },
    {
      "cell_type": "markdown",
      "metadata": {
        "id": "z9FY-N832UnL"
      },
      "source": [
        "### 6. Agregaciones (5 pts)\n",
        "\n",
        "1. Calcular el promedio de notas por cada estudiante.\n",
        "2. Calcular el promedio de notas por cada curso.\n",
        "3. Calcular el promedio de notas por cada profesor.\n",
        "4. Calcular el número total de estudiantes por curso.\n",
        "5. Calcular el número total de cursos por profesor."
      ]
    },
    {
      "cell_type": "code",
      "execution_count": null,
      "metadata": {
        "id": "S8Vs35z02UnL",
        "colab": {
          "base_uri": "https://localhost:8080/"
        },
        "outputId": "a61a91b0-88a7-42db-9bbb-93a62d0403e5"
      },
      "outputs": [
        {
          "output_type": "stream",
          "name": "stdout",
          "text": [
            "\n",
            "Promedio de notas por estudiante:\n",
            "     student_id     grade\n",
            "0             3  4.854000\n",
            "1             4  4.077500\n",
            "2             5  4.060000\n",
            "3             6  4.210000\n",
            "4             7  3.007500\n",
            "..          ...       ...\n",
            "153         195  7.262000\n",
            "154         196  5.605000\n",
            "155         197  5.850000\n",
            "156         199  6.076667\n",
            "157         200  4.995000\n",
            "\n",
            "[158 rows x 2 columns]\n",
            "\n",
            "Promedio de notas por curso:\n",
            "    course_id     grade\n",
            "0           1  4.664000\n",
            "1           3  3.245556\n",
            "2           4  4.590000\n",
            "3           5  4.927143\n",
            "4           6  4.375625\n",
            "..        ...       ...\n",
            "77         95  4.631000\n",
            "78         97  2.485000\n",
            "79         98  5.501111\n",
            "80         99  5.905000\n",
            "81        100  6.047500\n",
            "\n",
            "[82 rows x 2 columns]\n",
            "\n",
            "Promedio de notas por profesor:\n",
            "       professor     grade\n",
            "0     Profesor 1  4.664000\n",
            "1    Profesor 10  4.382500\n",
            "2   Profesor 100  6.047500\n",
            "3    Profesor 11  4.268000\n",
            "4    Profesor 12  2.842857\n",
            "..           ...       ...\n",
            "77   Profesor 94  4.666667\n",
            "78   Profesor 95  4.631000\n",
            "79   Profesor 97  2.485000\n",
            "80   Profesor 98  5.501111\n",
            "81   Profesor 99  5.905000\n",
            "\n",
            "[82 rows x 2 columns]\n",
            "\n",
            "Número total de estudiantes por curso:\n",
            "    course_id  total_estudiantes\n",
            "0           1                  5\n",
            "1           3                  9\n",
            "2           4                  9\n",
            "3           5                  7\n",
            "4           6                 16\n",
            "..        ...                ...\n",
            "77         95                 10\n",
            "78         97                  6\n",
            "79         98                  9\n",
            "80         99                  8\n",
            "81        100                  4\n",
            "\n",
            "[82 rows x 2 columns]\n",
            "\n",
            "Número total de cursos por profesor:\n",
            "       professor  total_cursos\n",
            "0     Profesor 1             1\n",
            "1    Profesor 10             1\n",
            "2   Profesor 100             1\n",
            "3    Profesor 11             1\n",
            "4    Profesor 12             1\n",
            "..           ...           ...\n",
            "77   Profesor 94             1\n",
            "78   Profesor 95             1\n",
            "79   Profesor 97             1\n",
            "80   Profesor 98             1\n",
            "81   Profesor 99             1\n",
            "\n",
            "[82 rows x 2 columns]\n"
          ]
        }
      ],
      "source": [
        "# 6. Agregaciones\n",
        "# 1.Promedio de notas por cada estudiante\n",
        "promedio_notas_estudiante = notas.groupby('student_id')['grade'].mean().reset_index()\n",
        "\n",
        "# 2.Promedio de notas por cada curso\n",
        "promedio_notas_curso = notas.groupby('course_id')['grade'].mean().reset_index()\n",
        "\n",
        "# 3.Unir notas con cursos para obtener la información de los profesores\n",
        "notas_profesores = pd.merge(notas, cursos, on='course_id', how='inner')\n",
        "\n",
        "# 4.Promedio de notas por cada profesor\n",
        "promedio_notas_profesor = notas_profesores.groupby('professor')['grade'].mean().reset_index()\n",
        "\n",
        "# 5.Número total de estudiantes por curso\n",
        "total_estudiantes_curso = notas.groupby('course_id')['student_id'].count().reset_index()\n",
        "total_estudiantes_curso.columns = ['course_id', 'total_estudiantes']\n",
        "\n",
        "# 6. Número total de cursos por profesor\n",
        "total_cursos_profesor = cursos.groupby('professor')['course_id'].count().reset_index()\n",
        "total_cursos_profesor.columns = ['professor', 'total_cursos']\n",
        "\n",
        "# Mostrar resultados de las nuevas agregaciones\n",
        "print(\"\\nPromedio de notas por estudiante:\")\n",
        "print(promedio_notas_estudiante)\n",
        "print(\"\\nPromedio de notas por curso:\")\n",
        "print(promedio_notas_curso)\n",
        "print(\"\\nPromedio de notas por profesor:\")\n",
        "print(promedio_notas_profesor)\n",
        "print(\"\\nNúmero total de estudiantes por curso:\")\n",
        "print(total_estudiantes_curso)\n",
        "print(\"\\nNúmero total de cursos por profesor:\")\n",
        "print(total_cursos_profesor)\n"
      ]
    }
  ],
  "metadata": {
    "kernelspec": {
      "display_name": "Python 3",
      "language": "python",
      "name": "python3"
    },
    "language_info": {
      "codemirror_mode": {
        "name": "ipython",
        "version": 3
      },
      "file_extension": ".py",
      "mimetype": "text/x-python",
      "name": "python",
      "nbconvert_exporter": "python",
      "pygments_lexer": "ipython3",
      "version": "3.9.6"
    },
    "colab": {
      "provenance": []
    }
  },
  "nbformat": 4,
  "nbformat_minor": 0
}