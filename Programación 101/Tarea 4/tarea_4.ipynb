{
 "cells": [
  {
   "cell_type": "markdown",
   "metadata": {},
   "source": [
    "# Tarea: Análisis de Datos de una Escuela\n",
    "\n",
    "### Descripción del Dataset\n",
    "\n",
    "Tienes tres datasets en formato CSV:\n",
    "- `estudiantes.csv`: Información sobre los estudiantes.\n",
    "  - Columnas: `student_id`, `student_name`, `age`\n",
    "- `cursos.csv`: Información sobre los cursos.\n",
    "  - Columnas: `course_id`, `course_name`, `credits`, `professor`\n",
    "- `notas.csv`: Información sobre las notas de los estudiantes en los cursos.\n",
    "  - Columnas: `note_id`, `student_id`, `course_id`, `grade`\n"
   ]
  },
  {
   "cell_type": "markdown",
   "metadata": {},
   "source": [
    "Puntaje:\n"
   ]
  },
  {
   "cell_type": "markdown",
   "metadata": {},
   "source": [
    "### 1. Cargar y mostrar los datos (1 pts)\n",
    "\n",
    "Carga los archivos CSV en dataframes de pandas y muestra las primeras filas de cada uno."
   ]
  },
  {
   "cell_type": "code",
   "metadata": {
    "jupyter": {
     "is_executing": true
    }
   },
   "source": "print(\"Tarea 4\")",
   "outputs": [],
   "execution_count": null
  },
  {
   "cell_type": "markdown",
   "metadata": {},
   "source": [
    "### 2. Limpieza de Datos (3 pts)\n",
    "\n",
    "#### a. Estudiantes\n",
    "1. Eliminar registros con nombres vacíos.\n",
    "2. Eliminar registros con edades fuera del rango (18-25)."
   ]
  },
  {
   "cell_type": "code",
   "execution_count": null,
   "metadata": {},
   "outputs": [],
   "source": []
  },
  {
   "cell_type": "markdown",
   "metadata": {},
   "source": [
    "#### b. Cursos\n",
    "1. Eliminar registros con nombres de cursos vacíos.\n",
    "2. Eliminar registros con créditos fuera del rango (1-5)."
   ]
  },
  {
   "cell_type": "code",
   "execution_count": null,
   "metadata": {},
   "outputs": [],
   "source": []
  },
  {
   "cell_type": "markdown",
   "metadata": {},
   "source": [
    "#### c. Notas\n",
    "1. Eliminar registros con notas fuera del rango (0-10).\n",
    "2. Eliminar registros con `student_id` y `course_id` que no existen en las tablas de estudiantes y cursos respectivamente."
   ]
  },
  {
   "cell_type": "code",
   "execution_count": null,
   "metadata": {},
   "outputs": [],
   "source": []
  },
  {
   "cell_type": "markdown",
   "metadata": {},
   "source": [
    "### 3. Estadísticas (3 pts)\n",
    "\n",
    "1. Calcular la media, mediana y desviación estándar de las edades de los estudiantes.\n",
    "2. Calcular la media, mediana y desviación estándar de los créditos de los cursos.\n",
    "3. Calcular la media, mediana y desviación estándar de las notas de los estudiantes."
   ]
  },
  {
   "cell_type": "code",
   "execution_count": null,
   "metadata": {},
   "outputs": [],
   "source": []
  },
  {
   "cell_type": "markdown",
   "metadata": {},
   "source": [
    "### 4. Uniones/ Joins (3 pts)\n",
    "\n",
    "1. Unir las notas con los estudiantes para obtener el nombre y la edad del estudiante en cada nota.\n",
    "2. Unir las notas con los cursos para obtener el nombre del curso y el profesor en cada nota."
   ]
  },
  {
   "cell_type": "code",
   "execution_count": null,
   "metadata": {},
   "outputs": [],
   "source": []
  },
  {
   "cell_type": "markdown",
   "metadata": {},
   "source": [
    "### 5. Filtros (5 pts)\n",
    "\n",
    "1. Filtrar las notas de estudiantes entre 20 y 22 años.\n",
    "2. Filtrar las notas en cursos con más de 3 créditos.\n",
    "3. Filtrar las notas obtenidas por un estudiante específico (ejemplo: `student_id` = 1) y en un curso específico (ejemplo: `course_id` = 1)."
   ]
  },
  {
   "cell_type": "code",
   "execution_count": null,
   "metadata": {},
   "outputs": [],
   "source": []
  },
  {
   "cell_type": "code",
   "execution_count": null,
   "metadata": {},
   "outputs": [],
   "source": []
  },
  {
   "cell_type": "code",
   "execution_count": null,
   "metadata": {},
   "outputs": [],
   "source": []
  },
  {
   "cell_type": "markdown",
   "metadata": {},
   "source": [
    "### 6. Agregaciones (5 pts)\n",
    "\n",
    "1. Calcular el promedio de notas por cada estudiante.\n",
    "2. Calcular el promedio de notas por cada curso.\n",
    "3. Calcular el promedio de notas por cada profesor.\n",
    "4. Calcular el número total de estudiantes por curso.\n",
    "5. Calcular el número total de cursos por profesor."
   ]
  },
  {
   "cell_type": "code",
   "execution_count": null,
   "metadata": {},
   "outputs": [],
   "source": []
  }
 ],
 "metadata": {
  "kernelspec": {
   "display_name": "Python 3",
   "language": "python",
   "name": "python3"
  },
  "language_info": {
   "codemirror_mode": {
    "name": "ipython",
    "version": 3
   },
   "file_extension": ".py",
   "mimetype": "text/x-python",
   "name": "python",
   "nbconvert_exporter": "python",
   "pygments_lexer": "ipython3",
   "version": "3.9.6"
  }
 },
 "nbformat": 4,
 "nbformat_minor": 4
}
