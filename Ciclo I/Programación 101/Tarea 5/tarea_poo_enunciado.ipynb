{
 "cells": [
  {
   "cell_type": "markdown",
   "metadata": {},
   "source": [
    "# Tarea 5\n",
    "\n",
    "### Indicaciones\n",
    "\n",
    "Resuelva los 10 problemas en este notebook. La tarea tiene un total de 20 puntos. Use ejemplos de uso en caso lo considere pertinente.\n"
   ]
  },
  {
   "cell_type": "markdown",
   "metadata": {},
   "source": [
    "\n",
    "# Problema 1: Definir una Clase (2 puntos)\n",
    "1. Define una clase llamada `Persona`.\n",
    "2. La clase debe tener un método `__init__` que inicialice los atributos `nombre` y `edad`.\n"
   ]
  },
  {
   "cell_type": "code",
   "execution_count": null,
   "metadata": {},
   "outputs": [],
   "source": []
  },
  {
   "cell_type": "markdown",
   "metadata": {},
   "source": [
    "\n",
    "# Problema 2: Métodos de Instancia (2 puntos)\n",
    "1. Agrega un método `saludar` a la clase `Persona` que imprima un mensaje de saludo que incluya el nombre de la persona.\n"
   ]
  },
  {
   "cell_type": "code",
   "execution_count": null,
   "metadata": {},
   "outputs": [],
   "source": []
  },
  {
   "cell_type": "markdown",
   "metadata": {},
   "source": [
    "\n",
    "\n",
    "# Problema 3: Herencia (3 puntos)\n",
    "1. Crea una subclase de `Persona` llamada `Estudiante`.\n",
    "2. La clase `Estudiante` debe tener un atributo adicional `id_estudiante`.\n",
    "3. Sobrescribe el método `saludar` para incluir el ID del estudiante en el saludo.\n"
   ]
  },
  {
   "cell_type": "code",
   "execution_count": null,
   "metadata": {},
   "outputs": [],
   "source": []
  },
  {
   "cell_type": "markdown",
   "metadata": {},
   "source": [
    "\n",
    "\n",
    "# Problema 4: Encapsulamiento (3 puntos)\n",
    "1. Modifica la clase `Persona` para hacer que el atributo `edad` sea privado.\n",
    "2. Agrega métodos getters y setters para el atributo `edad`.\n"
   ]
  },
  {
   "cell_type": "code",
   "execution_count": null,
   "metadata": {},
   "outputs": [],
   "source": []
  },
  {
   "cell_type": "markdown",
   "metadata": {},
   "source": [
    "\n",
    "# Problema 5: Atributos de Clase (2 puntos)\n",
    "1. Agrega un atributo de clase `especie` con el valor `\"Homo sapiens\"` a la clase `Persona`.\n",
    "2. Accede a este atributo de clase usando el nombre de la clase y una instancia.\n"
   ]
  },
  {
   "cell_type": "code",
   "execution_count": null,
   "metadata": {},
   "outputs": [],
   "source": []
  },
  {
   "cell_type": "markdown",
   "metadata": {},
   "source": [
    "\n",
    "# Problema 6: Métodos Estáticos (2 puntos)\n",
    "1. Agrega un método estático `es_adulto` a la clase `Persona` que tome una edad como parámetro y devuelva `True` si la edad es 18 o mayor, y `False` en caso contrario.\n"
   ]
  },
  {
   "cell_type": "code",
   "execution_count": null,
   "metadata": {},
   "outputs": [],
   "source": []
  },
  {
   "cell_type": "markdown",
   "metadata": {},
   "source": [
    "\n",
    "\n",
    "# Problema 7: Métodos de Clase (2 puntos)\n",
    "1. Agrega un método de clase `desde_anio_nacimiento` a la clase `Persona` que tome `nombre` y `anio_nacimiento` como parámetros y devuelva una instancia de `Persona` con la edad correcta.\n"
   ]
  },
  {
   "cell_type": "code",
   "execution_count": null,
   "metadata": {},
   "outputs": [],
   "source": []
  },
  {
   "cell_type": "markdown",
   "metadata": {},
   "source": [
    "\n",
    "# Problema 8: Polimorfismo (2 puntos)\n",
    "1. Crea una función `introducir` que tome un objeto `Persona` y llame a su método `saludar`.\n",
    "2. Demuestra el polimorfismo pasando objetos `Persona` y `Estudiante` a esta función.\n"
   ]
  },
  {
   "cell_type": "code",
   "execution_count": null,
   "metadata": {},
   "outputs": [],
   "source": []
  },
  {
   "cell_type": "markdown",
   "metadata": {},
   "source": [
    "\n",
    "# Problema 9: Composición (2 puntos)\n",
    "1. Crea una clase `Curso` con los atributos `nombre_curso` y `estudiantes` (una lista de objetos `Estudiante`).\n",
    "2. Agrega un método `agregar_estudiante` a la clase `Curso` que agregue un estudiante al curso.\n",
    "3. Agrega un método `obtener_estudiantes` que devuelva la lista de nombres de los estudiantes.\n"
   ]
  },
  {
   "cell_type": "code",
   "execution_count": null,
   "metadata": {},
   "outputs": [],
   "source": []
  },
  {
   "cell_type": "markdown",
   "metadata": {},
   "source": [
    "\n",
    "# Problema 10: Sobrecarga de Operadores (2 puntos)\n",
    "1. Sobrecarga el método `__str__` en la clase `Persona` para devolver una representación en cadena del objeto.\n",
    "2. Sobrecarga el método `__eq__` en la clase `Estudiante` para comparar estudiantes basándose en su ID de estudiante.\n"
   ]
  },
  {
   "cell_type": "code",
   "execution_count": null,
   "metadata": {},
   "outputs": [],
   "source": []
  }
 ],
 "metadata": {
  "language_info": {
   "name": "python"
  }
 },
 "nbformat": 4,
 "nbformat_minor": 2
}
