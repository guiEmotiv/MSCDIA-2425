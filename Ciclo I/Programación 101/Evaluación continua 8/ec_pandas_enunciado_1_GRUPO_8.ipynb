{
 "cells": [
  {
   "cell_type": "markdown",
   "metadata": {
    "id": "GSzY38AleQXt"
   },
   "source": [
    "# Tarea 4\n",
    "\n",
    "### Indicaciones\n",
    "\n",
    "Para esta tarea cuenta con dos bases de datos, una de clientes y otra de compras.\n",
    "\n",
    "La base de datos de clientes tiene la siguiente estructura:\n",
    "- `id_cliente`: identificador único del cliente.\n",
    "- `nombre`: nombre del cliente.\n",
    "- `direccion`: dirección del cliente.\n",
    "- `email`: correo electrónico del cliente.\n",
    "- `edad`: edad del cliente.\n",
    "- `fecha_registro`: fecha en la que el cliente se registró.\n",
    "- `activo`: indica si el cliente está activo o no.\n",
    "\n",
    "La base de datos de compras tiene la siguiente estructura:\n",
    "- `id_compra`: identificador único de la compra.\n",
    "- `id_cliente`: identificador único del cliente que realizó la compra.\n",
    "- `producto`: producto comprado.\n",
    "- `cantidad`: cantidad de productos comprados.\n",
    "- `precio`: precio del producto.\n",
    "- `fecha_compra`: fecha en la que se realizó la compra.\n",
    "\n",
    "Usted deberá realizar diferentes acciones sobre estas bases de datos."
   ]
  },
  {
   "cell_type": "markdown",
   "metadata": {
    "vscode": {
     "languageId": "plaintext"
    },
    "id": "HWUhzukqeQXv"
   },
   "source": [
    "## 1. Limpieza de datos\n",
    "\n",
    "### Clientes (4 puntos)\n",
    "1. Elimine los registros de clientes que no tengan un email válido o que no tengan email (puede usar expresiones regulares). (0.5 puntos)\n",
    "2. Hay registros repetidos en la base de datos de clientes, elimine los registros repetidos. (0.5 puntos)\n",
    "3. Hay registros con edades negativas, reemplace estas edades por la mediana de las edades de los clientes. (1 punto)\n",
    "4. Hay registros sin nombre, reemplace estos nombres por \"Cliente sin nombre\". (0.5 puntos)\n",
    "5. Hay registros sin dirección, reemplace estas direcciones por \"Dirección desconocida\". (0.5 puntos)\n",
    "6. Hay clientes que no indican si están activos o no, reemplace estos valores por False. (1 punto)\n",
    "\n",
    "### Compras (3 puntos)\n",
    "1. Hay registros con cantidades negativas, elimine estos registros. (0.5 puntos)\n",
    "2. Hay registros con precios de tipo string en vez de numéricos, elimine estos registros. (0.5 puntos)\n",
    "3. Hay registros con productos vacíos, reemplácelos por \"Producto desconocido\". (0.5 puntos)\n",
    "4. Hay registros con `id_cliente` que no existen en la base de datos de clientes, elimine estos registros. (1 punto)\n",
    "5. Hay registros con `id_cliente` vacíos, elimine estos registros. (0.5 puntos)"
   ]
  },
  {
   "cell_type": "code",
   "metadata": {
    "colab": {
     "base_uri": "https://localhost:8080/",
     "height": 206
    },
    "id": "twJPlMuqeQXv",
    "outputId": "35ff6d11-bfe0-4730-cad9-84708a827883",
    "ExecuteTime": {
     "end_time": "2024-06-26T02:07:28.193309Z",
     "start_time": "2024-06-26T02:07:27.770264Z"
    }
   },
   "source": [
    "# Limpieza de clientes\n",
    "\n",
    "import pandas as pd\n",
    "import numpy as np\n",
    "from datetime import datetime\n",
    "\n",
    "# Cargar datos\n",
    "clientes_df = pd.read_csv('/content/clientes.csv')\n",
    "\n",
    "# 1. Eliminar registros sin email válido o sin email\n",
    "clientes_df = clientes_df[clientes_df['email'].str.contains('^[a-zA-Z0-9_.+-]+@[a-zA-Z0-9-]+\\.[a-zA-Z0-9-.]+$', na=False)]\n",
    "\n",
    "# 2. Eliminar registros duplicados\n",
    "clientes_df.drop_duplicates(inplace=True)\n",
    "\n",
    "# 3. Reemplazar edades negativas por la mediana de las edades\n",
    "median_age = clientes_df[clientes_df['edad'] > 0]['edad'].median()\n",
    "clientes_df['edad'] = clientes_df['edad'].apply(lambda x: median_age if x < 0 else x)\n",
    "\n",
    "# 4. Reemplazar nombres faltantes\n",
    "clientes_df['nombre'].replace(np.nan, 'Cliente sin nombre', inplace=True)\n",
    "\n",
    "# 5. Reemplazar direcciones faltantes\n",
    "clientes_df['direccion'].replace(np.nan, 'Dirección desconocida', inplace=True)\n",
    "\n",
    "# 6. Reemplazar valores faltantes en \"activo\"\n",
    "clientes_df['activo'].replace(np.nan, False, inplace=True)\n",
    "clientes_df['activo'] = clientes_df['activo'].astype(bool)  # Asegurar que todos los valores sean booleanos\n",
    "\n",
    "# Mostrar los datos limpios\n",
    "clientes_df.head()\n"
   ],
   "outputs": [
    {
     "name": "stderr",
     "output_type": "stream",
     "text": [
      "<>:11: SyntaxWarning: invalid escape sequence '\\.'\n",
      "<>:11: SyntaxWarning: invalid escape sequence '\\.'\n",
      "/var/folders/5f/437jmjvd10n445dxc7_gzn2w0000gn/T/ipykernel_32300/836225933.py:11: SyntaxWarning: invalid escape sequence '\\.'\n",
      "  clientes_df = clientes_df[clientes_df['email'].str.contains('^[a-zA-Z0-9_.+-]+@[a-zA-Z0-9-]+\\.[a-zA-Z0-9-.]+$', na=False)]\n",
      "/var/folders/5f/437jmjvd10n445dxc7_gzn2w0000gn/T/ipykernel_32300/836225933.py:11: SyntaxWarning: invalid escape sequence '\\.'\n",
      "  clientes_df = clientes_df[clientes_df['email'].str.contains('^[a-zA-Z0-9_.+-]+@[a-zA-Z0-9-]+\\.[a-zA-Z0-9-.]+$', na=False)]\n"
     ]
    },
    {
     "ename": "FileNotFoundError",
     "evalue": "[Errno 2] No such file or directory: '/content/clientes.csv'",
     "output_type": "error",
     "traceback": [
      "\u001B[0;31m---------------------------------------------------------------------------\u001B[0m",
      "\u001B[0;31mFileNotFoundError\u001B[0m                         Traceback (most recent call last)",
      "Cell \u001B[0;32mIn[1], line 8\u001B[0m\n\u001B[1;32m      5\u001B[0m \u001B[38;5;28;01mfrom\u001B[39;00m \u001B[38;5;21;01mdatetime\u001B[39;00m \u001B[38;5;28;01mimport\u001B[39;00m datetime\n\u001B[1;32m      7\u001B[0m \u001B[38;5;66;03m# Cargar datos\u001B[39;00m\n\u001B[0;32m----> 8\u001B[0m clientes_df \u001B[38;5;241m=\u001B[39m \u001B[43mpd\u001B[49m\u001B[38;5;241;43m.\u001B[39;49m\u001B[43mread_csv\u001B[49m\u001B[43m(\u001B[49m\u001B[38;5;124;43m'\u001B[39;49m\u001B[38;5;124;43m/content/clientes.csv\u001B[39;49m\u001B[38;5;124;43m'\u001B[39;49m\u001B[43m)\u001B[49m\n\u001B[1;32m     10\u001B[0m \u001B[38;5;66;03m# 1. Eliminar registros sin email válido o sin email\u001B[39;00m\n\u001B[1;32m     11\u001B[0m clientes_df \u001B[38;5;241m=\u001B[39m clientes_df[clientes_df[\u001B[38;5;124m'\u001B[39m\u001B[38;5;124memail\u001B[39m\u001B[38;5;124m'\u001B[39m]\u001B[38;5;241m.\u001B[39mstr\u001B[38;5;241m.\u001B[39mcontains(\u001B[38;5;124m'\u001B[39m\u001B[38;5;124m^[a-zA-Z0-9_.+-]+@[a-zA-Z0-9-]+\u001B[39m\u001B[38;5;124m\\\u001B[39m\u001B[38;5;124m.[a-zA-Z0-9-.]+$\u001B[39m\u001B[38;5;124m'\u001B[39m, na\u001B[38;5;241m=\u001B[39m\u001B[38;5;28;01mFalse\u001B[39;00m)]\n",
      "File \u001B[0;32m~/miniconda3/lib/python3.12/site-packages/pandas/io/parsers/readers.py:1026\u001B[0m, in \u001B[0;36mread_csv\u001B[0;34m(filepath_or_buffer, sep, delimiter, header, names, index_col, usecols, dtype, engine, converters, true_values, false_values, skipinitialspace, skiprows, skipfooter, nrows, na_values, keep_default_na, na_filter, verbose, skip_blank_lines, parse_dates, infer_datetime_format, keep_date_col, date_parser, date_format, dayfirst, cache_dates, iterator, chunksize, compression, thousands, decimal, lineterminator, quotechar, quoting, doublequote, escapechar, comment, encoding, encoding_errors, dialect, on_bad_lines, delim_whitespace, low_memory, memory_map, float_precision, storage_options, dtype_backend)\u001B[0m\n\u001B[1;32m   1013\u001B[0m kwds_defaults \u001B[38;5;241m=\u001B[39m _refine_defaults_read(\n\u001B[1;32m   1014\u001B[0m     dialect,\n\u001B[1;32m   1015\u001B[0m     delimiter,\n\u001B[0;32m   (...)\u001B[0m\n\u001B[1;32m   1022\u001B[0m     dtype_backend\u001B[38;5;241m=\u001B[39mdtype_backend,\n\u001B[1;32m   1023\u001B[0m )\n\u001B[1;32m   1024\u001B[0m kwds\u001B[38;5;241m.\u001B[39mupdate(kwds_defaults)\n\u001B[0;32m-> 1026\u001B[0m \u001B[38;5;28;01mreturn\u001B[39;00m \u001B[43m_read\u001B[49m\u001B[43m(\u001B[49m\u001B[43mfilepath_or_buffer\u001B[49m\u001B[43m,\u001B[49m\u001B[43m \u001B[49m\u001B[43mkwds\u001B[49m\u001B[43m)\u001B[49m\n",
      "File \u001B[0;32m~/miniconda3/lib/python3.12/site-packages/pandas/io/parsers/readers.py:620\u001B[0m, in \u001B[0;36m_read\u001B[0;34m(filepath_or_buffer, kwds)\u001B[0m\n\u001B[1;32m    617\u001B[0m _validate_names(kwds\u001B[38;5;241m.\u001B[39mget(\u001B[38;5;124m\"\u001B[39m\u001B[38;5;124mnames\u001B[39m\u001B[38;5;124m\"\u001B[39m, \u001B[38;5;28;01mNone\u001B[39;00m))\n\u001B[1;32m    619\u001B[0m \u001B[38;5;66;03m# Create the parser.\u001B[39;00m\n\u001B[0;32m--> 620\u001B[0m parser \u001B[38;5;241m=\u001B[39m \u001B[43mTextFileReader\u001B[49m\u001B[43m(\u001B[49m\u001B[43mfilepath_or_buffer\u001B[49m\u001B[43m,\u001B[49m\u001B[43m \u001B[49m\u001B[38;5;241;43m*\u001B[39;49m\u001B[38;5;241;43m*\u001B[39;49m\u001B[43mkwds\u001B[49m\u001B[43m)\u001B[49m\n\u001B[1;32m    622\u001B[0m \u001B[38;5;28;01mif\u001B[39;00m chunksize \u001B[38;5;129;01mor\u001B[39;00m iterator:\n\u001B[1;32m    623\u001B[0m     \u001B[38;5;28;01mreturn\u001B[39;00m parser\n",
      "File \u001B[0;32m~/miniconda3/lib/python3.12/site-packages/pandas/io/parsers/readers.py:1620\u001B[0m, in \u001B[0;36mTextFileReader.__init__\u001B[0;34m(self, f, engine, **kwds)\u001B[0m\n\u001B[1;32m   1617\u001B[0m     \u001B[38;5;28mself\u001B[39m\u001B[38;5;241m.\u001B[39moptions[\u001B[38;5;124m\"\u001B[39m\u001B[38;5;124mhas_index_names\u001B[39m\u001B[38;5;124m\"\u001B[39m] \u001B[38;5;241m=\u001B[39m kwds[\u001B[38;5;124m\"\u001B[39m\u001B[38;5;124mhas_index_names\u001B[39m\u001B[38;5;124m\"\u001B[39m]\n\u001B[1;32m   1619\u001B[0m \u001B[38;5;28mself\u001B[39m\u001B[38;5;241m.\u001B[39mhandles: IOHandles \u001B[38;5;241m|\u001B[39m \u001B[38;5;28;01mNone\u001B[39;00m \u001B[38;5;241m=\u001B[39m \u001B[38;5;28;01mNone\u001B[39;00m\n\u001B[0;32m-> 1620\u001B[0m \u001B[38;5;28mself\u001B[39m\u001B[38;5;241m.\u001B[39m_engine \u001B[38;5;241m=\u001B[39m \u001B[38;5;28;43mself\u001B[39;49m\u001B[38;5;241;43m.\u001B[39;49m\u001B[43m_make_engine\u001B[49m\u001B[43m(\u001B[49m\u001B[43mf\u001B[49m\u001B[43m,\u001B[49m\u001B[43m \u001B[49m\u001B[38;5;28;43mself\u001B[39;49m\u001B[38;5;241;43m.\u001B[39;49m\u001B[43mengine\u001B[49m\u001B[43m)\u001B[49m\n",
      "File \u001B[0;32m~/miniconda3/lib/python3.12/site-packages/pandas/io/parsers/readers.py:1880\u001B[0m, in \u001B[0;36mTextFileReader._make_engine\u001B[0;34m(self, f, engine)\u001B[0m\n\u001B[1;32m   1878\u001B[0m     \u001B[38;5;28;01mif\u001B[39;00m \u001B[38;5;124m\"\u001B[39m\u001B[38;5;124mb\u001B[39m\u001B[38;5;124m\"\u001B[39m \u001B[38;5;129;01mnot\u001B[39;00m \u001B[38;5;129;01min\u001B[39;00m mode:\n\u001B[1;32m   1879\u001B[0m         mode \u001B[38;5;241m+\u001B[39m\u001B[38;5;241m=\u001B[39m \u001B[38;5;124m\"\u001B[39m\u001B[38;5;124mb\u001B[39m\u001B[38;5;124m\"\u001B[39m\n\u001B[0;32m-> 1880\u001B[0m \u001B[38;5;28mself\u001B[39m\u001B[38;5;241m.\u001B[39mhandles \u001B[38;5;241m=\u001B[39m \u001B[43mget_handle\u001B[49m\u001B[43m(\u001B[49m\n\u001B[1;32m   1881\u001B[0m \u001B[43m    \u001B[49m\u001B[43mf\u001B[49m\u001B[43m,\u001B[49m\n\u001B[1;32m   1882\u001B[0m \u001B[43m    \u001B[49m\u001B[43mmode\u001B[49m\u001B[43m,\u001B[49m\n\u001B[1;32m   1883\u001B[0m \u001B[43m    \u001B[49m\u001B[43mencoding\u001B[49m\u001B[38;5;241;43m=\u001B[39;49m\u001B[38;5;28;43mself\u001B[39;49m\u001B[38;5;241;43m.\u001B[39;49m\u001B[43moptions\u001B[49m\u001B[38;5;241;43m.\u001B[39;49m\u001B[43mget\u001B[49m\u001B[43m(\u001B[49m\u001B[38;5;124;43m\"\u001B[39;49m\u001B[38;5;124;43mencoding\u001B[39;49m\u001B[38;5;124;43m\"\u001B[39;49m\u001B[43m,\u001B[49m\u001B[43m \u001B[49m\u001B[38;5;28;43;01mNone\u001B[39;49;00m\u001B[43m)\u001B[49m\u001B[43m,\u001B[49m\n\u001B[1;32m   1884\u001B[0m \u001B[43m    \u001B[49m\u001B[43mcompression\u001B[49m\u001B[38;5;241;43m=\u001B[39;49m\u001B[38;5;28;43mself\u001B[39;49m\u001B[38;5;241;43m.\u001B[39;49m\u001B[43moptions\u001B[49m\u001B[38;5;241;43m.\u001B[39;49m\u001B[43mget\u001B[49m\u001B[43m(\u001B[49m\u001B[38;5;124;43m\"\u001B[39;49m\u001B[38;5;124;43mcompression\u001B[39;49m\u001B[38;5;124;43m\"\u001B[39;49m\u001B[43m,\u001B[49m\u001B[43m \u001B[49m\u001B[38;5;28;43;01mNone\u001B[39;49;00m\u001B[43m)\u001B[49m\u001B[43m,\u001B[49m\n\u001B[1;32m   1885\u001B[0m \u001B[43m    \u001B[49m\u001B[43mmemory_map\u001B[49m\u001B[38;5;241;43m=\u001B[39;49m\u001B[38;5;28;43mself\u001B[39;49m\u001B[38;5;241;43m.\u001B[39;49m\u001B[43moptions\u001B[49m\u001B[38;5;241;43m.\u001B[39;49m\u001B[43mget\u001B[49m\u001B[43m(\u001B[49m\u001B[38;5;124;43m\"\u001B[39;49m\u001B[38;5;124;43mmemory_map\u001B[39;49m\u001B[38;5;124;43m\"\u001B[39;49m\u001B[43m,\u001B[49m\u001B[43m \u001B[49m\u001B[38;5;28;43;01mFalse\u001B[39;49;00m\u001B[43m)\u001B[49m\u001B[43m,\u001B[49m\n\u001B[1;32m   1886\u001B[0m \u001B[43m    \u001B[49m\u001B[43mis_text\u001B[49m\u001B[38;5;241;43m=\u001B[39;49m\u001B[43mis_text\u001B[49m\u001B[43m,\u001B[49m\n\u001B[1;32m   1887\u001B[0m \u001B[43m    \u001B[49m\u001B[43merrors\u001B[49m\u001B[38;5;241;43m=\u001B[39;49m\u001B[38;5;28;43mself\u001B[39;49m\u001B[38;5;241;43m.\u001B[39;49m\u001B[43moptions\u001B[49m\u001B[38;5;241;43m.\u001B[39;49m\u001B[43mget\u001B[49m\u001B[43m(\u001B[49m\u001B[38;5;124;43m\"\u001B[39;49m\u001B[38;5;124;43mencoding_errors\u001B[39;49m\u001B[38;5;124;43m\"\u001B[39;49m\u001B[43m,\u001B[49m\u001B[43m \u001B[49m\u001B[38;5;124;43m\"\u001B[39;49m\u001B[38;5;124;43mstrict\u001B[39;49m\u001B[38;5;124;43m\"\u001B[39;49m\u001B[43m)\u001B[49m\u001B[43m,\u001B[49m\n\u001B[1;32m   1888\u001B[0m \u001B[43m    \u001B[49m\u001B[43mstorage_options\u001B[49m\u001B[38;5;241;43m=\u001B[39;49m\u001B[38;5;28;43mself\u001B[39;49m\u001B[38;5;241;43m.\u001B[39;49m\u001B[43moptions\u001B[49m\u001B[38;5;241;43m.\u001B[39;49m\u001B[43mget\u001B[49m\u001B[43m(\u001B[49m\u001B[38;5;124;43m\"\u001B[39;49m\u001B[38;5;124;43mstorage_options\u001B[39;49m\u001B[38;5;124;43m\"\u001B[39;49m\u001B[43m,\u001B[49m\u001B[43m \u001B[49m\u001B[38;5;28;43;01mNone\u001B[39;49;00m\u001B[43m)\u001B[49m\u001B[43m,\u001B[49m\n\u001B[1;32m   1889\u001B[0m \u001B[43m\u001B[49m\u001B[43m)\u001B[49m\n\u001B[1;32m   1890\u001B[0m \u001B[38;5;28;01massert\u001B[39;00m \u001B[38;5;28mself\u001B[39m\u001B[38;5;241m.\u001B[39mhandles \u001B[38;5;129;01mis\u001B[39;00m \u001B[38;5;129;01mnot\u001B[39;00m \u001B[38;5;28;01mNone\u001B[39;00m\n\u001B[1;32m   1891\u001B[0m f \u001B[38;5;241m=\u001B[39m \u001B[38;5;28mself\u001B[39m\u001B[38;5;241m.\u001B[39mhandles\u001B[38;5;241m.\u001B[39mhandle\n",
      "File \u001B[0;32m~/miniconda3/lib/python3.12/site-packages/pandas/io/common.py:873\u001B[0m, in \u001B[0;36mget_handle\u001B[0;34m(path_or_buf, mode, encoding, compression, memory_map, is_text, errors, storage_options)\u001B[0m\n\u001B[1;32m    868\u001B[0m \u001B[38;5;28;01melif\u001B[39;00m \u001B[38;5;28misinstance\u001B[39m(handle, \u001B[38;5;28mstr\u001B[39m):\n\u001B[1;32m    869\u001B[0m     \u001B[38;5;66;03m# Check whether the filename is to be opened in binary mode.\u001B[39;00m\n\u001B[1;32m    870\u001B[0m     \u001B[38;5;66;03m# Binary mode does not support 'encoding' and 'newline'.\u001B[39;00m\n\u001B[1;32m    871\u001B[0m     \u001B[38;5;28;01mif\u001B[39;00m ioargs\u001B[38;5;241m.\u001B[39mencoding \u001B[38;5;129;01mand\u001B[39;00m \u001B[38;5;124m\"\u001B[39m\u001B[38;5;124mb\u001B[39m\u001B[38;5;124m\"\u001B[39m \u001B[38;5;129;01mnot\u001B[39;00m \u001B[38;5;129;01min\u001B[39;00m ioargs\u001B[38;5;241m.\u001B[39mmode:\n\u001B[1;32m    872\u001B[0m         \u001B[38;5;66;03m# Encoding\u001B[39;00m\n\u001B[0;32m--> 873\u001B[0m         handle \u001B[38;5;241m=\u001B[39m \u001B[38;5;28;43mopen\u001B[39;49m\u001B[43m(\u001B[49m\n\u001B[1;32m    874\u001B[0m \u001B[43m            \u001B[49m\u001B[43mhandle\u001B[49m\u001B[43m,\u001B[49m\n\u001B[1;32m    875\u001B[0m \u001B[43m            \u001B[49m\u001B[43mioargs\u001B[49m\u001B[38;5;241;43m.\u001B[39;49m\u001B[43mmode\u001B[49m\u001B[43m,\u001B[49m\n\u001B[1;32m    876\u001B[0m \u001B[43m            \u001B[49m\u001B[43mencoding\u001B[49m\u001B[38;5;241;43m=\u001B[39;49m\u001B[43mioargs\u001B[49m\u001B[38;5;241;43m.\u001B[39;49m\u001B[43mencoding\u001B[49m\u001B[43m,\u001B[49m\n\u001B[1;32m    877\u001B[0m \u001B[43m            \u001B[49m\u001B[43merrors\u001B[49m\u001B[38;5;241;43m=\u001B[39;49m\u001B[43merrors\u001B[49m\u001B[43m,\u001B[49m\n\u001B[1;32m    878\u001B[0m \u001B[43m            \u001B[49m\u001B[43mnewline\u001B[49m\u001B[38;5;241;43m=\u001B[39;49m\u001B[38;5;124;43m\"\u001B[39;49m\u001B[38;5;124;43m\"\u001B[39;49m\u001B[43m,\u001B[49m\n\u001B[1;32m    879\u001B[0m \u001B[43m        \u001B[49m\u001B[43m)\u001B[49m\n\u001B[1;32m    880\u001B[0m     \u001B[38;5;28;01melse\u001B[39;00m:\n\u001B[1;32m    881\u001B[0m         \u001B[38;5;66;03m# Binary mode\u001B[39;00m\n\u001B[1;32m    882\u001B[0m         handle \u001B[38;5;241m=\u001B[39m \u001B[38;5;28mopen\u001B[39m(handle, ioargs\u001B[38;5;241m.\u001B[39mmode)\n",
      "\u001B[0;31mFileNotFoundError\u001B[0m: [Errno 2] No such file or directory: '/content/clientes.csv'"
     ]
    }
   ],
   "execution_count": 1
  },
  {
   "cell_type": "code",
   "execution_count": 7,
   "metadata": {
    "colab": {
     "base_uri": "https://localhost:8080/",
     "height": 206
    },
    "id": "ZGZC9gaoeQXw",
    "outputId": "cfdf6071-173a-475c-bffa-2f243ec6191e"
   },
   "outputs": [
    {
     "output_type": "execute_result",
     "data": {
      "text/plain": [
       "                              id_compra                            id_cliente  \\\n",
       "0  b1fead13-f280-4f1d-9a6c-0db952171c88  f94d8fcb-dba3-496f-ba32-3f6990dbfad6   \n",
       "1  f7fe604f-65f3-4779-b6ee-5cdb2d79a2d1  fff9f585-0d55-4b61-8a17-5dfebfc00dc8   \n",
       "2  f7bf5244-7db2-47aa-a205-e54fb1e8c09d  a6348e78-4d5c-45c7-b379-cb1ee8cda0cc   \n",
       "3  d105c8d6-47c1-4017-a045-2909536d47d7  39b86bb2-b596-4a7c-af4a-fa885299e505   \n",
       "4  33261887-9058-41df-ae9b-f3e11d27c09a  b0946d2a-2aa9-4b43-ad15-f16fb7b8c1a5   \n",
       "\n",
       "  producto  cantidad  precio fecha_compra  \n",
       "0     deep         4  454.25   2023-05-22  \n",
       "1     from         7  208.14   2023-01-05  \n",
       "2   parent         4  471.71   2023-12-29  \n",
       "3    stock        19   84.80   2023-03-20  \n",
       "4   person        10  405.02   2024-06-04  "
      ],
      "text/html": [
       "\n",
       "  <div id=\"df-82c15f63-8649-4053-aac6-97cd48babbdb\" class=\"colab-df-container\">\n",
       "    <div>\n",
       "<style scoped>\n",
       "    .dataframe tbody tr th:only-of-type {\n",
       "        vertical-align: middle;\n",
       "    }\n",
       "\n",
       "    .dataframe tbody tr th {\n",
       "        vertical-align: top;\n",
       "    }\n",
       "\n",
       "    .dataframe thead th {\n",
       "        text-align: right;\n",
       "    }\n",
       "</style>\n",
       "<table border=\"1\" class=\"dataframe\">\n",
       "  <thead>\n",
       "    <tr style=\"text-align: right;\">\n",
       "      <th></th>\n",
       "      <th>id_compra</th>\n",
       "      <th>id_cliente</th>\n",
       "      <th>producto</th>\n",
       "      <th>cantidad</th>\n",
       "      <th>precio</th>\n",
       "      <th>fecha_compra</th>\n",
       "    </tr>\n",
       "  </thead>\n",
       "  <tbody>\n",
       "    <tr>\n",
       "      <th>0</th>\n",
       "      <td>b1fead13-f280-4f1d-9a6c-0db952171c88</td>\n",
       "      <td>f94d8fcb-dba3-496f-ba32-3f6990dbfad6</td>\n",
       "      <td>deep</td>\n",
       "      <td>4</td>\n",
       "      <td>454.25</td>\n",
       "      <td>2023-05-22</td>\n",
       "    </tr>\n",
       "    <tr>\n",
       "      <th>1</th>\n",
       "      <td>f7fe604f-65f3-4779-b6ee-5cdb2d79a2d1</td>\n",
       "      <td>fff9f585-0d55-4b61-8a17-5dfebfc00dc8</td>\n",
       "      <td>from</td>\n",
       "      <td>7</td>\n",
       "      <td>208.14</td>\n",
       "      <td>2023-01-05</td>\n",
       "    </tr>\n",
       "    <tr>\n",
       "      <th>2</th>\n",
       "      <td>f7bf5244-7db2-47aa-a205-e54fb1e8c09d</td>\n",
       "      <td>a6348e78-4d5c-45c7-b379-cb1ee8cda0cc</td>\n",
       "      <td>parent</td>\n",
       "      <td>4</td>\n",
       "      <td>471.71</td>\n",
       "      <td>2023-12-29</td>\n",
       "    </tr>\n",
       "    <tr>\n",
       "      <th>3</th>\n",
       "      <td>d105c8d6-47c1-4017-a045-2909536d47d7</td>\n",
       "      <td>39b86bb2-b596-4a7c-af4a-fa885299e505</td>\n",
       "      <td>stock</td>\n",
       "      <td>19</td>\n",
       "      <td>84.80</td>\n",
       "      <td>2023-03-20</td>\n",
       "    </tr>\n",
       "    <tr>\n",
       "      <th>4</th>\n",
       "      <td>33261887-9058-41df-ae9b-f3e11d27c09a</td>\n",
       "      <td>b0946d2a-2aa9-4b43-ad15-f16fb7b8c1a5</td>\n",
       "      <td>person</td>\n",
       "      <td>10</td>\n",
       "      <td>405.02</td>\n",
       "      <td>2024-06-04</td>\n",
       "    </tr>\n",
       "  </tbody>\n",
       "</table>\n",
       "</div>\n",
       "    <div class=\"colab-df-buttons\">\n",
       "\n",
       "  <div class=\"colab-df-container\">\n",
       "    <button class=\"colab-df-convert\" onclick=\"convertToInteractive('df-82c15f63-8649-4053-aac6-97cd48babbdb')\"\n",
       "            title=\"Convert this dataframe to an interactive table.\"\n",
       "            style=\"display:none;\">\n",
       "\n",
       "  <svg xmlns=\"http://www.w3.org/2000/svg\" height=\"24px\" viewBox=\"0 -960 960 960\">\n",
       "    <path d=\"M120-120v-720h720v720H120Zm60-500h600v-160H180v160Zm220 220h160v-160H400v160Zm0 220h160v-160H400v160ZM180-400h160v-160H180v160Zm440 0h160v-160H620v160ZM180-180h160v-160H180v160Zm440 0h160v-160H620v160Z\"/>\n",
       "  </svg>\n",
       "    </button>\n",
       "\n",
       "  <style>\n",
       "    .colab-df-container {\n",
       "      display:flex;\n",
       "      gap: 12px;\n",
       "    }\n",
       "\n",
       "    .colab-df-convert {\n",
       "      background-color: #E8F0FE;\n",
       "      border: none;\n",
       "      border-radius: 50%;\n",
       "      cursor: pointer;\n",
       "      display: none;\n",
       "      fill: #1967D2;\n",
       "      height: 32px;\n",
       "      padding: 0 0 0 0;\n",
       "      width: 32px;\n",
       "    }\n",
       "\n",
       "    .colab-df-convert:hover {\n",
       "      background-color: #E2EBFA;\n",
       "      box-shadow: 0px 1px 2px rgba(60, 64, 67, 0.3), 0px 1px 3px 1px rgba(60, 64, 67, 0.15);\n",
       "      fill: #174EA6;\n",
       "    }\n",
       "\n",
       "    .colab-df-buttons div {\n",
       "      margin-bottom: 4px;\n",
       "    }\n",
       "\n",
       "    [theme=dark] .colab-df-convert {\n",
       "      background-color: #3B4455;\n",
       "      fill: #D2E3FC;\n",
       "    }\n",
       "\n",
       "    [theme=dark] .colab-df-convert:hover {\n",
       "      background-color: #434B5C;\n",
       "      box-shadow: 0px 1px 3px 1px rgba(0, 0, 0, 0.15);\n",
       "      filter: drop-shadow(0px 1px 2px rgba(0, 0, 0, 0.3));\n",
       "      fill: #FFFFFF;\n",
       "    }\n",
       "  </style>\n",
       "\n",
       "    <script>\n",
       "      const buttonEl =\n",
       "        document.querySelector('#df-82c15f63-8649-4053-aac6-97cd48babbdb button.colab-df-convert');\n",
       "      buttonEl.style.display =\n",
       "        google.colab.kernel.accessAllowed ? 'block' : 'none';\n",
       "\n",
       "      async function convertToInteractive(key) {\n",
       "        const element = document.querySelector('#df-82c15f63-8649-4053-aac6-97cd48babbdb');\n",
       "        const dataTable =\n",
       "          await google.colab.kernel.invokeFunction('convertToInteractive',\n",
       "                                                    [key], {});\n",
       "        if (!dataTable) return;\n",
       "\n",
       "        const docLinkHtml = 'Like what you see? Visit the ' +\n",
       "          '<a target=\"_blank\" href=https://colab.research.google.com/notebooks/data_table.ipynb>data table notebook</a>'\n",
       "          + ' to learn more about interactive tables.';\n",
       "        element.innerHTML = '';\n",
       "        dataTable['output_type'] = 'display_data';\n",
       "        await google.colab.output.renderOutput(dataTable, element);\n",
       "        const docLink = document.createElement('div');\n",
       "        docLink.innerHTML = docLinkHtml;\n",
       "        element.appendChild(docLink);\n",
       "      }\n",
       "    </script>\n",
       "  </div>\n",
       "\n",
       "\n",
       "<div id=\"df-37a9b6ae-88e0-4f13-8e79-a7ce4927795f\">\n",
       "  <button class=\"colab-df-quickchart\" onclick=\"quickchart('df-37a9b6ae-88e0-4f13-8e79-a7ce4927795f')\"\n",
       "            title=\"Suggest charts\"\n",
       "            style=\"display:none;\">\n",
       "\n",
       "<svg xmlns=\"http://www.w3.org/2000/svg\" height=\"24px\"viewBox=\"0 0 24 24\"\n",
       "     width=\"24px\">\n",
       "    <g>\n",
       "        <path d=\"M19 3H5c-1.1 0-2 .9-2 2v14c0 1.1.9 2 2 2h14c1.1 0 2-.9 2-2V5c0-1.1-.9-2-2-2zM9 17H7v-7h2v7zm4 0h-2V7h2v10zm4 0h-2v-4h2v4z\"/>\n",
       "    </g>\n",
       "</svg>\n",
       "  </button>\n",
       "\n",
       "<style>\n",
       "  .colab-df-quickchart {\n",
       "      --bg-color: #E8F0FE;\n",
       "      --fill-color: #1967D2;\n",
       "      --hover-bg-color: #E2EBFA;\n",
       "      --hover-fill-color: #174EA6;\n",
       "      --disabled-fill-color: #AAA;\n",
       "      --disabled-bg-color: #DDD;\n",
       "  }\n",
       "\n",
       "  [theme=dark] .colab-df-quickchart {\n",
       "      --bg-color: #3B4455;\n",
       "      --fill-color: #D2E3FC;\n",
       "      --hover-bg-color: #434B5C;\n",
       "      --hover-fill-color: #FFFFFF;\n",
       "      --disabled-bg-color: #3B4455;\n",
       "      --disabled-fill-color: #666;\n",
       "  }\n",
       "\n",
       "  .colab-df-quickchart {\n",
       "    background-color: var(--bg-color);\n",
       "    border: none;\n",
       "    border-radius: 50%;\n",
       "    cursor: pointer;\n",
       "    display: none;\n",
       "    fill: var(--fill-color);\n",
       "    height: 32px;\n",
       "    padding: 0;\n",
       "    width: 32px;\n",
       "  }\n",
       "\n",
       "  .colab-df-quickchart:hover {\n",
       "    background-color: var(--hover-bg-color);\n",
       "    box-shadow: 0 1px 2px rgba(60, 64, 67, 0.3), 0 1px 3px 1px rgba(60, 64, 67, 0.15);\n",
       "    fill: var(--button-hover-fill-color);\n",
       "  }\n",
       "\n",
       "  .colab-df-quickchart-complete:disabled,\n",
       "  .colab-df-quickchart-complete:disabled:hover {\n",
       "    background-color: var(--disabled-bg-color);\n",
       "    fill: var(--disabled-fill-color);\n",
       "    box-shadow: none;\n",
       "  }\n",
       "\n",
       "  .colab-df-spinner {\n",
       "    border: 2px solid var(--fill-color);\n",
       "    border-color: transparent;\n",
       "    border-bottom-color: var(--fill-color);\n",
       "    animation:\n",
       "      spin 1s steps(1) infinite;\n",
       "  }\n",
       "\n",
       "  @keyframes spin {\n",
       "    0% {\n",
       "      border-color: transparent;\n",
       "      border-bottom-color: var(--fill-color);\n",
       "      border-left-color: var(--fill-color);\n",
       "    }\n",
       "    20% {\n",
       "      border-color: transparent;\n",
       "      border-left-color: var(--fill-color);\n",
       "      border-top-color: var(--fill-color);\n",
       "    }\n",
       "    30% {\n",
       "      border-color: transparent;\n",
       "      border-left-color: var(--fill-color);\n",
       "      border-top-color: var(--fill-color);\n",
       "      border-right-color: var(--fill-color);\n",
       "    }\n",
       "    40% {\n",
       "      border-color: transparent;\n",
       "      border-right-color: var(--fill-color);\n",
       "      border-top-color: var(--fill-color);\n",
       "    }\n",
       "    60% {\n",
       "      border-color: transparent;\n",
       "      border-right-color: var(--fill-color);\n",
       "    }\n",
       "    80% {\n",
       "      border-color: transparent;\n",
       "      border-right-color: var(--fill-color);\n",
       "      border-bottom-color: var(--fill-color);\n",
       "    }\n",
       "    90% {\n",
       "      border-color: transparent;\n",
       "      border-bottom-color: var(--fill-color);\n",
       "    }\n",
       "  }\n",
       "</style>\n",
       "\n",
       "  <script>\n",
       "    async function quickchart(key) {\n",
       "      const quickchartButtonEl =\n",
       "        document.querySelector('#' + key + ' button');\n",
       "      quickchartButtonEl.disabled = true;  // To prevent multiple clicks.\n",
       "      quickchartButtonEl.classList.add('colab-df-spinner');\n",
       "      try {\n",
       "        const charts = await google.colab.kernel.invokeFunction(\n",
       "            'suggestCharts', [key], {});\n",
       "      } catch (error) {\n",
       "        console.error('Error during call to suggestCharts:', error);\n",
       "      }\n",
       "      quickchartButtonEl.classList.remove('colab-df-spinner');\n",
       "      quickchartButtonEl.classList.add('colab-df-quickchart-complete');\n",
       "    }\n",
       "    (() => {\n",
       "      let quickchartButtonEl =\n",
       "        document.querySelector('#df-37a9b6ae-88e0-4f13-8e79-a7ce4927795f button');\n",
       "      quickchartButtonEl.style.display =\n",
       "        google.colab.kernel.accessAllowed ? 'block' : 'none';\n",
       "    })();\n",
       "  </script>\n",
       "</div>\n",
       "\n",
       "    </div>\n",
       "  </div>\n"
      ],
      "application/vnd.google.colaboratory.intrinsic+json": {
       "type": "dataframe",
       "variable_name": "compras_df",
       "summary": "{\n  \"name\": \"compras_df\",\n  \"rows\": 190,\n  \"fields\": [\n    {\n      \"column\": \"id_compra\",\n      \"properties\": {\n        \"dtype\": \"string\",\n        \"num_unique_values\": 190,\n        \"samples\": [\n          \"9d37efb6-eafb-4e90-94ec-84ce002ccb25\",\n          \"4d407b28-5628-4dcd-99dd-3e8c96053035\",\n          \"f99cea5c-b65a-40f1-8350-ab061059ea28\"\n        ],\n        \"semantic_type\": \"\",\n        \"description\": \"\"\n      }\n    },\n    {\n      \"column\": \"id_cliente\",\n      \"properties\": {\n        \"dtype\": \"category\",\n        \"num_unique_values\": 84,\n        \"samples\": [\n          \"750d112e-8164-4eec-a4ab-851bf1fac6e7\",\n          \"f94d8fcb-dba3-496f-ba32-3f6990dbfad6\",\n          \"e9d68f23-b489-4070-b914-f8a8bea4ff31\"\n        ],\n        \"semantic_type\": \"\",\n        \"description\": \"\"\n      }\n    },\n    {\n      \"column\": \"producto\",\n      \"properties\": {\n        \"dtype\": \"string\",\n        \"num_unique_values\": 167,\n        \"samples\": [\n          \"around\",\n          \"report\",\n          \"power\"\n        ],\n        \"semantic_type\": \"\",\n        \"description\": \"\"\n      }\n    },\n    {\n      \"column\": \"cantidad\",\n      \"properties\": {\n        \"dtype\": \"number\",\n        \"std\": 5,\n        \"min\": 1,\n        \"max\": 19,\n        \"num_unique_values\": 19,\n        \"samples\": [\n          4,\n          11,\n          17\n        ],\n        \"semantic_type\": \"\",\n        \"description\": \"\"\n      }\n    },\n    {\n      \"column\": \"precio\",\n      \"properties\": {\n        \"dtype\": \"number\",\n        \"std\": 145.46954402009982,\n        \"min\": 10.62,\n        \"max\": 497.99,\n        \"num_unique_values\": 190,\n        \"samples\": [\n          385.61,\n          94.13,\n          478.62\n        ],\n        \"semantic_type\": \"\",\n        \"description\": \"\"\n      }\n    },\n    {\n      \"column\": \"fecha_compra\",\n      \"properties\": {\n        \"dtype\": \"object\",\n        \"num_unique_values\": 167,\n        \"samples\": [\n          \"2022-12-21\",\n          \"2024-01-14\",\n          \"2023-10-20\"\n        ],\n        \"semantic_type\": \"\",\n        \"description\": \"\"\n      }\n    }\n  ]\n}"
      }
     },
     "metadata": {},
     "execution_count": 7
    }
   ],
   "source": [
    "# Limpieza de compras\n",
    "\n",
    "# Cargar datos\n",
    "compras_df = pd.read_csv('/content/compras.csv')\n",
    "\n",
    "# 1. Eliminar registros con cantidades negativas\n",
    "compras_df = compras_df[compras_df['cantidad'] >= 0]\n",
    "\n",
    "# 2. Eliminar registros con precios no numéricos\n",
    "compras_df['precio'] = pd.to_numeric(compras_df['precio'], errors='coerce')\n",
    "compras_df = compras_df.dropna(subset=['precio'])\n",
    "\n",
    "# 3. Reemplazar productos faltantes\n",
    "compras_df['producto'].replace('', 'Producto desconocido', inplace=True)\n",
    "compras_df['producto'].replace(pd.NA, 'Producto desconocido', inplace=True)\n",
    "\n",
    "# 4. Eliminar registros con `id_cliente` que no exista en la base de clientes (esto requiere datos de clientes)\n",
    "# clientes_df ya debe estar cargado y limpio\n",
    "clientes_validos = set(clientes_df['id_cliente'])\n",
    "compras_df = compras_df[compras_df['id_cliente'].isin(clientes_validos)]\n",
    "\n",
    "# 5. Eliminar registros con `id_cliente` vacío\n",
    "compras_df = compras_df[compras_df['id_cliente'].notna()]\n",
    "\n",
    "# Mostrar los datos limpios\n",
    "compras_df.head()"
   ]
  },
  {
   "cell_type": "markdown",
   "metadata": {
    "id": "d-rKZiIYeQXw"
   },
   "source": [
    "## 2. Stats\n",
    "\n",
    "Calcular la media, mediana y skew de las edades y precios usando `.agg`. (2 puntos)"
   ]
  },
  {
   "cell_type": "code",
   "execution_count": 8,
   "metadata": {
    "colab": {
     "base_uri": "https://localhost:8080/"
    },
    "id": "jVqeXvFheQXw",
    "outputId": "472bcd5b-cf91-4728-fb34-61e4c582f2d7"
   },
   "outputs": [
    {
     "output_type": "stream",
     "name": "stdout",
     "text": [
      "mean      48.171717\n",
      "median    46.000000\n",
      "skew       0.098407\n",
      "Name: edad, dtype: float64\n"
     ]
    }
   ],
   "source": [
    "# Edades\n",
    "\n",
    "# Calcular media, mediana y skew de las edades\n",
    "resultados_edades = clientes_df['edad'].agg(['mean', 'median', 'skew'])\n",
    "\n",
    "# Mostrar los resultados\n",
    "print(resultados_edades)"
   ]
  },
  {
   "cell_type": "code",
   "execution_count": 9,
   "metadata": {
    "colab": {
     "base_uri": "https://localhost:8080/"
    },
    "id": "cgN0f2MeeQXw",
    "outputId": "2a37926d-38c4-4340-d27e-ad05f64a7ef5"
   },
   "outputs": [
    {
     "output_type": "stream",
     "name": "stdout",
     "text": [
      "mean      264.516211\n",
      "median    257.405000\n",
      "skew       -0.014805\n",
      "Name: precio, dtype: float64\n"
     ]
    }
   ],
   "source": [
    "# Precios\n",
    "\n",
    "# Calcular media, mediana y skew de los precios\n",
    "resultados_precios = compras_df['precio'].agg(['mean', 'median', 'skew'])\n",
    "\n",
    "# Mostrar los resultados\n",
    "print(resultados_precios)"
   ]
  },
  {
   "cell_type": "markdown",
   "metadata": {
    "id": "CeVUdg8beQXw"
   },
   "source": [
    "## 3. Concatenación\n",
    "\n",
    "Halle las compras desde el 2023 hasta hoy y guárdelas en una variable llamada `compras_2023_hoy`. (1 punto)\n",
    "\n",
    "Halle las compras de diciembre de 2022 y guárdelas en una variable llamada `compras_2022_navidad`. (1 punto)\n",
    "\n",
    "Concatene ambos dataframes y guarde el resultado en una variable llamada `compras_concatenadas`. (1 punto)"
   ]
  },
  {
   "cell_type": "code",
   "execution_count": 10,
   "metadata": {
    "colab": {
     "base_uri": "https://localhost:8080/"
    },
    "id": "PGEY2wrMeQXw",
    "outputId": "78e9d8a1-cfab-4865-8519-b1818b9a16fd"
   },
   "outputs": [
    {
     "output_type": "stream",
     "name": "stdout",
     "text": [
      "                                id_compra  \\\n",
      "0    b1fead13-f280-4f1d-9a6c-0db952171c88   \n",
      "1    f7fe604f-65f3-4779-b6ee-5cdb2d79a2d1   \n",
      "2    f7bf5244-7db2-47aa-a205-e54fb1e8c09d   \n",
      "3    d105c8d6-47c1-4017-a045-2909536d47d7   \n",
      "4    33261887-9058-41df-ae9b-f3e11d27c09a   \n",
      "..                                    ...   \n",
      "193  9d1c0838-edc8-4ca8-a3bc-d6f3b18d2c8c   \n",
      "194  2ce3d822-d080-42b8-96c5-6fe7aa604892   \n",
      "196  643ffdae-92a5-4d04-b2dd-e1f5b3b6d344   \n",
      "197  2e9ce8ff-084a-4c4b-9146-8cdcf7164b73   \n",
      "198  388c9751-9c83-49ae-b7b0-2805cf0df860   \n",
      "\n",
      "                               id_cliente producto  cantidad  precio  \\\n",
      "0    f94d8fcb-dba3-496f-ba32-3f6990dbfad6     deep         4  454.25   \n",
      "1    fff9f585-0d55-4b61-8a17-5dfebfc00dc8     from         7  208.14   \n",
      "2    a6348e78-4d5c-45c7-b379-cb1ee8cda0cc   parent         4  471.71   \n",
      "3    39b86bb2-b596-4a7c-af4a-fa885299e505    stock        19   84.80   \n",
      "4    b0946d2a-2aa9-4b43-ad15-f16fb7b8c1a5   person        10  405.02   \n",
      "..                                    ...      ...       ...     ...   \n",
      "193  7c93f6cc-97d7-4560-adb1-4670ad9fb00d     stop        19  411.79   \n",
      "194  564cfbd2-bc92-4d81-839b-058c2faabe0b    human        10   92.62   \n",
      "196  3f07f814-91d6-4f78-a3e9-de99f10c718b    today        14  185.31   \n",
      "197  4c6a70f4-8ede-444d-876c-f68c3f1be0d0     play        13  164.18   \n",
      "198  ab0e664e-9c3e-42d5-91e1-aa9676f72255  purpose        15  315.81   \n",
      "\n",
      "    fecha_compra  \n",
      "0     2023-05-22  \n",
      "1     2023-01-05  \n",
      "2     2023-12-29  \n",
      "3     2023-03-20  \n",
      "4     2024-06-04  \n",
      "..           ...  \n",
      "193   2023-02-21  \n",
      "194   2023-01-16  \n",
      "196   2024-06-01  \n",
      "197   2023-01-24  \n",
      "198   2023-07-24  \n",
      "\n",
      "[136 rows x 6 columns]\n"
     ]
    }
   ],
   "source": [
    "# Compras de 2023 a hoy\n",
    "\n",
    "# Convertir la columna 'fecha_compra' a tipo datetime si aún no se ha hecho\n",
    "compras_df['fecha_compra'] = pd.to_datetime(compras_df['fecha_compra'])\n",
    "\n",
    "# Filtrar compras desde el inicio de 2023 hasta hoy\n",
    "fecha_inicio = pd.Timestamp(year=2023, month=1, day=1)\n",
    "fecha_fin = pd.Timestamp(datetime.now())  # Hoy\n",
    "\n",
    "compras_2023_hoy = compras_df[(compras_df['fecha_compra'] >= fecha_inicio) & (compras_df['fecha_compra'] <= fecha_fin)]\n",
    "\n",
    "# Mostrar el resultado\n",
    "print(compras_2023_hoy)"
   ]
  },
  {
   "cell_type": "code",
   "execution_count": 11,
   "metadata": {
    "colab": {
     "base_uri": "https://localhost:8080/"
    },
    "id": "fzEPpJmdeQXw",
    "outputId": "12395bbe-5f8e-4b3e-ac3e-3f6fa77fb1f6"
   },
   "outputs": [
    {
     "output_type": "stream",
     "name": "stdout",
     "text": [
      "                                id_compra  \\\n",
      "31   36fce0ac-b469-4db3-8123-a348638abdf6   \n",
      "118  ce9e9ebd-55c3-4853-8783-e43ce65fad87   \n",
      "146  516c3b0a-5385-4918-bc40-15fad4f76322   \n",
      "173  cf89569d-e550-4736-8780-6e713811b519   \n",
      "175  28dd2bfd-f956-4e95-bb96-4c74ffe62994   \n",
      "\n",
      "                               id_cliente  producto  cantidad  precio  \\\n",
      "31   80913ac1-0463-450e-8964-6b96fa3c1628  describe        10  132.68   \n",
      "118  3f07f814-91d6-4f78-a3e9-de99f10c718b     laugh         9  424.34   \n",
      "146  48bddb3e-62f5-4f2b-adaa-44ca8ed6ad5e     local        18   87.28   \n",
      "173  6aa56e6d-9277-4574-8457-6cc335f789bc     start         7  337.43   \n",
      "175  3f07f814-91d6-4f78-a3e9-de99f10c718b     black         1  278.19   \n",
      "\n",
      "    fecha_compra  \n",
      "31    2022-12-26  \n",
      "118   2022-12-21  \n",
      "146   2022-12-21  \n",
      "173   2022-12-28  \n",
      "175   2022-12-04  \n"
     ]
    }
   ],
   "source": [
    "# Compras 2022\n",
    "\n",
    "# Convertir la columna 'fecha_compra' a tipo datetime si aún no se ha hecho\n",
    "compras_df['fecha_compra'] = pd.to_datetime(compras_df['fecha_compra'])\n",
    "\n",
    "# Filtrar compras de diciembre de 2022\n",
    "fecha_inicio_dic_2022 = pd.Timestamp(year=2022, month=12, day=1)\n",
    "fecha_fin_dic_2022 = pd.Timestamp(year=2022, month=12, day=31)\n",
    "\n",
    "compras_2022_navidad = compras_df[(compras_df['fecha_compra'] >= fecha_inicio_dic_2022) & (compras_df['fecha_compra'] <= fecha_fin_dic_2022)]\n",
    "\n",
    "# Mostrar el resultado\n",
    "print(compras_2022_navidad)"
   ]
  },
  {
   "cell_type": "code",
   "execution_count": 12,
   "metadata": {
    "colab": {
     "base_uri": "https://localhost:8080/"
    },
    "id": "Fw4MJGnHeQXx",
    "outputId": "32ebcaa3-c796-4367-84e2-c5b989f8ddcb"
   },
   "outputs": [
    {
     "output_type": "stream",
     "name": "stdout",
     "text": [
      "                                id_compra  \\\n",
      "0    b1fead13-f280-4f1d-9a6c-0db952171c88   \n",
      "1    f7fe604f-65f3-4779-b6ee-5cdb2d79a2d1   \n",
      "2    f7bf5244-7db2-47aa-a205-e54fb1e8c09d   \n",
      "3    d105c8d6-47c1-4017-a045-2909536d47d7   \n",
      "4    33261887-9058-41df-ae9b-f3e11d27c09a   \n",
      "..                                    ...   \n",
      "136  36fce0ac-b469-4db3-8123-a348638abdf6   \n",
      "137  ce9e9ebd-55c3-4853-8783-e43ce65fad87   \n",
      "138  516c3b0a-5385-4918-bc40-15fad4f76322   \n",
      "139  cf89569d-e550-4736-8780-6e713811b519   \n",
      "140  28dd2bfd-f956-4e95-bb96-4c74ffe62994   \n",
      "\n",
      "                               id_cliente  producto  cantidad  precio  \\\n",
      "0    f94d8fcb-dba3-496f-ba32-3f6990dbfad6      deep         4  454.25   \n",
      "1    fff9f585-0d55-4b61-8a17-5dfebfc00dc8      from         7  208.14   \n",
      "2    a6348e78-4d5c-45c7-b379-cb1ee8cda0cc    parent         4  471.71   \n",
      "3    39b86bb2-b596-4a7c-af4a-fa885299e505     stock        19   84.80   \n",
      "4    b0946d2a-2aa9-4b43-ad15-f16fb7b8c1a5    person        10  405.02   \n",
      "..                                    ...       ...       ...     ...   \n",
      "136  80913ac1-0463-450e-8964-6b96fa3c1628  describe        10  132.68   \n",
      "137  3f07f814-91d6-4f78-a3e9-de99f10c718b     laugh         9  424.34   \n",
      "138  48bddb3e-62f5-4f2b-adaa-44ca8ed6ad5e     local        18   87.28   \n",
      "139  6aa56e6d-9277-4574-8457-6cc335f789bc     start         7  337.43   \n",
      "140  3f07f814-91d6-4f78-a3e9-de99f10c718b     black         1  278.19   \n",
      "\n",
      "    fecha_compra  \n",
      "0     2023-05-22  \n",
      "1     2023-01-05  \n",
      "2     2023-12-29  \n",
      "3     2023-03-20  \n",
      "4     2024-06-04  \n",
      "..           ...  \n",
      "136   2022-12-26  \n",
      "137   2022-12-21  \n",
      "138   2022-12-21  \n",
      "139   2022-12-28  \n",
      "140   2022-12-04  \n",
      "\n",
      "[141 rows x 6 columns]\n"
     ]
    }
   ],
   "source": [
    "# Compras concatenadas\n",
    "\n",
    "# Concatenar ambos dataframes\n",
    "compras_concatenadas = pd.concat([compras_2023_hoy, compras_2022_navidad], ignore_index=True)\n",
    "\n",
    "# Mostrar el resultado\n",
    "print(compras_concatenadas)"
   ]
  },
  {
   "cell_type": "markdown",
   "metadata": {
    "id": "rtRl49MPeQXx"
   },
   "source": [
    "## 4. Join\n",
    "\n",
    "Realice un inner join de las dos bases de datos sobre el campo `id_cliente` y guárdelo en un dataframe llamado `df_completo`. (2 puntos)"
   ]
  },
  {
   "cell_type": "code",
   "execution_count": 13,
   "metadata": {
    "colab": {
     "base_uri": "https://localhost:8080/"
    },
    "id": "OiVrNxJ7eQXx",
    "outputId": "d719fe35-4f4e-4920-d6ee-0f5bf58b49f9"
   },
   "outputs": [
    {
     "output_type": "stream",
     "name": "stdout",
     "text": [
      "                             id_cliente        nombre  \\\n",
      "0  bdd640fb-0667-4ad1-9c80-317fa3b1799d  Daniel Doyle   \n",
      "1  bdd640fb-0667-4ad1-9c80-317fa3b1799d  Daniel Doyle   \n",
      "2  bdd640fb-0667-4ad1-9c80-317fa3b1799d  Daniel Doyle   \n",
      "3  bdd640fb-0667-4ad1-9c80-317fa3b1799d  Daniel Doyle   \n",
      "4  bdd640fb-0667-4ad1-9c80-317fa3b1799d  Daniel Doyle   \n",
      "\n",
      "                                       direccion                  email  edad  \\\n",
      "0  600 Jeffery Parkways\\nNew Jamesside, MT 29394  zlawrence@example.org  56.0   \n",
      "1  600 Jeffery Parkways\\nNew Jamesside, MT 29394  zlawrence@example.org  56.0   \n",
      "2  600 Jeffery Parkways\\nNew Jamesside, MT 29394  zlawrence@example.org  56.0   \n",
      "3  600 Jeffery Parkways\\nNew Jamesside, MT 29394  zlawrence@example.org  56.0   \n",
      "4  600 Jeffery Parkways\\nNew Jamesside, MT 29394  zlawrence@example.org  56.0   \n",
      "\n",
      "  fecha_registro  activo                             id_compra  producto  \\\n",
      "0     2023-03-23   False  23a13e20-7fd2-45ee-ac48-436668bd80d7  property   \n",
      "1     2023-03-23   False  9342a09f-b00a-464c-949c-d8d48ed8a80d        do   \n",
      "2     2023-03-23   False  21f89d06-13f3-4ade-ba10-013f36a2c52b  personal   \n",
      "3     2023-03-23   False  6c1cc405-dc3f-42e0-bcf7-b8421edf3bfa      rule   \n",
      "4     2023-03-23   False  848b34f0-3498-4735-8d38-e415e03635fc    policy   \n",
      "\n",
      "   cantidad  precio fecha_compra  \n",
      "0        13  431.06   2023-01-13  \n",
      "1        19  341.95   2023-04-27  \n",
      "2         1  223.96   2022-11-18  \n",
      "3        16  260.76   2022-09-10  \n",
      "4         5  343.56   2023-06-13  \n"
     ]
    }
   ],
   "source": [
    "# Join\n",
    "\n",
    "# Realizar un inner join en el campo 'id_cliente'\n",
    "df_completo = pd.merge(clientes_df, compras_df, on='id_cliente', how='inner')\n",
    "\n",
    "# Mostrar el resultado\n",
    "print(df_completo.head())"
   ]
  },
  {
   "cell_type": "markdown",
   "metadata": {
    "id": "zOhGhmyleQXx"
   },
   "source": [
    "## 5. Filtros\n",
    "\n",
    "Halle los clientes activos que hayan realizado compras durante el año 2023. Guárdelo en un `.csv` llamado `clientes_activos_2023.csv`. (3 puntos)\n",
    "\n",
    "Halle los clientes que hayan realizado más de 3 compras y cuyo gasto total en todas las compras supere los $1000. Guárdelo en un `.csv` llamado `clientes_vip.csv`. (3 puntos)\n",
    "\n",
    "Realice los ejercicios en celdas separadas y comente su código adecuadamente."
   ]
  },
  {
   "cell_type": "code",
   "execution_count": 15,
   "metadata": {
    "colab": {
     "base_uri": "https://localhost:8080/"
    },
    "id": "ydSfv5XIeQXx",
    "outputId": "86f4a27f-7642-48da-83d6-4ddec1dffa86"
   },
   "outputs": [
    {
     "output_type": "stream",
     "name": "stdout",
     "text": [
      "Archivo clientes_activos_2023.csv guardado exitosamente.\n"
     ]
    }
   ],
   "source": [
    "# Clientes activos\n",
    "\n",
    "# Convertir la columna 'fecha_compra' a tipo datetime si aún no se ha hecho\n",
    "df_completo['fecha_compra'] = pd.to_datetime(df_completo['fecha_compra'])\n",
    "\n",
    "# Filtrar por clientes activos y compras realizadas durante 2023\n",
    "clientes_activos_2023 = df_completo[(df_completo['activo'] == True) &\n",
    "                                    (df_completo['fecha_compra'].dt.year == 2023)]\n",
    "\n",
    "# Guardar el resultado en un archivo CSV\n",
    "clientes_activos_2023.to_csv('/content/clientes_activos_2023.csv', index=False)\n",
    "\n",
    "# Confirmar que el archivo ha sido guardado\n",
    "print(\"Archivo clientes_activos_2023.csv guardado exitosamente.\")"
   ]
  },
  {
   "cell_type": "code",
   "execution_count": 16,
   "metadata": {
    "colab": {
     "base_uri": "https://localhost:8080/"
    },
    "id": "a6W5hcpmeQXx",
    "outputId": "a5ed74ad-447c-402d-a5af-7a97fc078a30"
   },
   "outputs": [
    {
     "output_type": "stream",
     "name": "stdout",
     "text": [
      "Archivo clientes_vip.csv guardado exitosamente.\n"
     ]
    }
   ],
   "source": [
    "# Clientes vip\n",
    "\n",
    "# Agrupar por id_cliente y calcular el número total de compras y el gasto total\n",
    "agrupado = df_completo.groupby('id_cliente').agg(\n",
    "    numero_compras=pd.NamedAgg(column='id_compra', aggfunc='count'),\n",
    "    gasto_total=pd.NamedAgg(column='precio', aggfunc='sum')\n",
    ")\n",
    "\n",
    "# Filtrar clientes con más de 3 compras y un gasto total superior a $1000\n",
    "clientes_vip = agrupado[(agrupado['numero_compras'] > 3) & (agrupado['gasto_total'] > 1000)]\n",
    "\n",
    "# Para obtener los detalles completos de estos clientes, realizar un merge con la información original de clientes\n",
    "clientes_vip_completo = pd.merge(clientes_vip, clientes_df, on='id_cliente', how='inner')\n",
    "\n",
    "# Guardar el resultado en un archivo CSV\n",
    "clientes_vip_completo.to_csv('/content/clientes_vip.csv', index=False)\n",
    "\n",
    "# Confirmar que el archivo ha sido guardado\n",
    "print(\"Archivo clientes_vip.csv guardado exitosamente.\")"
   ]
  }
 ],
 "metadata": {
  "kernelspec": {
   "display_name": ".venv",
   "language": "python",
   "name": "python3"
  },
  "language_info": {
   "codemirror_mode": {
    "name": "ipython",
    "version": 3
   },
   "file_extension": ".py",
   "mimetype": "text/x-python",
   "name": "python",
   "nbconvert_exporter": "python",
   "pygments_lexer": "ipython3",
   "version": "3.10.11"
  },
  "colab": {
   "provenance": []
  }
 },
 "nbformat": 4,
 "nbformat_minor": 0
}
